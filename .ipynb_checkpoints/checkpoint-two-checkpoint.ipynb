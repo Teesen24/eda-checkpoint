{
 "cells": [
  {
   "cell_type": "markdown",
   "metadata": {
    "azdata_cell_guid": "151601c9-ca7a-412e-af80-c62a87e0837e"
   },
   "source": [
    "# Checkpoint Two: Exploratory Data Analysis\n",
    "\n",
    "Now that your chosen dataset is approved, it is time to start working on your analysis. Use this notebook to perform your EDA and make notes where directed to as you work.\n",
    "\n",
    "## Getting Started\n",
    "\n",
    "Since we have not provided your dataset for you, you will need to load the necessary files in this repository. Make sure to include a link back to the original dataset here as well.\n",
    "\n",
    "My dataset:\n",
    "\n",
    "Your first task in EDA is to import necessary libraries and create a dataframe(s). Make note in the form of code comments of what your thought process is as you work on this setup task."
   ]
  },
  {
   "cell_type": "code",
   "execution_count": 20,
   "metadata": {
    "azdata_cell_guid": "7b503e37-6df5-4433-acfb-678b1346db14"
   },
   "outputs": [],
   "source": [
    "import pandas as pd\n",
    "import matplotlib.pyplot as plt"
   ]
  },
  {
   "cell_type": "code",
   "execution_count": 21,
   "metadata": {},
   "outputs": [
    {
     "name": "stdout",
     "output_type": "stream",
     "text": [
      "      Series ID  Year Period     Label  Value\n",
      "0   LNS14000000  2019    M01  2019 Jan    4.0\n",
      "1   LNS14000000  2019    M02  2019 Feb    3.8\n",
      "2   LNS14000000  2019    M03  2019 Mar    3.8\n",
      "3   LNS14000000  2019    M04  2019 Apr    3.6\n",
      "4   LNS14000000  2019    M05  2019 May    3.6\n",
      "5   LNS14000000  2019    M06  2019 Jun    3.6\n",
      "6   LNS14000000  2019    M07  2019 Jul    3.7\n",
      "7   LNS14000000  2019    M08  2019 Aug    3.7\n",
      "8   LNS14000000  2019    M09  2019 Sep    3.5\n",
      "9   LNS14000000  2019    M10  2019 Oct    3.6\n",
      "10  LNS14000000  2019    M11  2019 Nov    3.6\n",
      "11  LNS14000000  2019    M12  2019 Dec    3.6\n",
      "12  LNS14000000  2020    M01  2020 Jan    3.5\n",
      "13  LNS14000000  2020    M02  2020 Feb    3.5\n",
      "14  LNS14000000  2020    M03  2020 Mar    4.4\n",
      "15  LNS14000000  2020    M04  2020 Apr   14.7\n",
      "16  LNS14000000  2020    M05  2020 May   13.2\n",
      "17  LNS14000000  2020    M06  2020 Jun   11.0\n",
      "18  LNS14000000  2020    M07  2020 Jul   10.2\n",
      "19  LNS14000000  2020    M08  2020 Aug    8.4\n",
      "20  LNS14000000  2020    M09  2020 Sep    7.9\n",
      "21  LNS14000000  2020    M10  2020 Oct    6.9\n",
      "22  LNS14000000  2020    M11  2020 Nov    6.7\n",
      "23  LNS14000000  2020    M12  2020 Dec    6.7\n",
      "24  LNS14000000  2021    M01  2021 Jan    6.4\n",
      "25  LNS14000000  2021    M02  2021 Feb    6.2\n",
      "26  LNS14000000  2021    M03  2021 Mar    6.0\n",
      "27  LNS14000000  2021    M04  2021 Apr    6.0\n",
      "28  LNS14000000  2021    M05  2021 May    5.8\n",
      "29  LNS14000000  2021    M06  2021 Jun    5.9\n",
      "30  LNS14000000  2021    M07  2021 Jul    5.4\n",
      "31  LNS14000000  2021    M08  2021 Aug    5.2\n",
      "32  LNS14000000  2021    M09  2021 Sep    4.7\n",
      "33  LNS14000000  2021    M10  2021 Oct    4.6\n",
      "34  LNS14000000  2021    M11  2021 Nov    4.2\n",
      "35  LNS14000000  2021    M12  2021 Dec    3.9\n",
      "36  LNS14000000  2022    M01  2022 Jan    4.0\n",
      "37  LNS14000000  2022    M02  2022 Feb    3.8\n",
      "38  LNS14000000  2022    M03  2022 Mar    3.6\n",
      "39  LNS14000000  2022    M04  2022 Apr    3.6\n",
      "40  LNS14000000  2022    M05  2022 May    3.6\n"
     ]
    }
   ],
   "source": [
    "bls_employment_rate = pd.read_csv(\"BLS employment rate.csv\")\n",
    "\n",
    "# For a quick view of the dataframe\n",
    "print(bls_employment_rate)"
   ]
  },
  {
   "cell_type": "code",
   "execution_count": 11,
   "metadata": {},
   "outputs": [
    {
     "name": "stdout",
     "output_type": "stream",
     "text": [
      "           DATE  IHLCHGNEWUS\n",
      "0    2020-02-01          0.0\n",
      "1    2020-02-02          0.9\n",
      "2    2020-02-03          2.0\n",
      "3    2020-02-04          2.2\n",
      "4    2020-02-05          2.5\n",
      "..          ...          ...\n",
      "849  2022-05-30         82.3\n",
      "850  2022-05-31         81.0\n",
      "851  2022-06-01         80.7\n",
      "852  2022-06-02         80.8\n",
      "853  2022-06-03         79.1\n",
      "\n",
      "[854 rows x 2 columns]\n"
     ]
    }
   ],
   "source": [
    "indeed_job_posting_freq = pd.read_csv(\"Indeed job posting freq.csv\")\n",
    "\n",
    "# For a quick view of the dataframe\n",
    "print(indeed_job_posting_freq)"
   ]
  },
  {
   "cell_type": "code",
   "execution_count": 12,
   "metadata": {},
   "outputs": [
    {
     "name": "stdout",
     "output_type": "stream",
     "text": [
      "                                               Indicator              Group  \\\n",
      "0      Took Prescription Medication for Mental Health...  National Estimate   \n",
      "1      Took Prescription Medication for Mental Health...             By Age   \n",
      "2      Took Prescription Medication for Mental Health...             By Age   \n",
      "3      Took Prescription Medication for Mental Health...             By Age   \n",
      "4      Took Prescription Medication for Mental Health...             By Age   \n",
      "...                                                  ...                ...   \n",
      "10399  Needed Counseling or Therapy But Did Not Get I...           By State   \n",
      "10400  Needed Counseling or Therapy But Did Not Get I...           By State   \n",
      "10401  Needed Counseling or Therapy But Did Not Get I...           By State   \n",
      "10402  Needed Counseling or Therapy But Did Not Get I...           By State   \n",
      "10403  Needed Counseling or Therapy But Did Not Get I...           By State   \n",
      "\n",
      "               State       Subgroup Phase  Time Period      Time Period Label  \\\n",
      "0      United States  United States     2           13  Aug 19 - Aug 31, 2020   \n",
      "1      United States  18 - 29 years     2           13  Aug 19 - Aug 31, 2020   \n",
      "2      United States  30 - 39 years     2           13  Aug 19 - Aug 31, 2020   \n",
      "3      United States  40 - 49 years     2           13  Aug 19 - Aug 31, 2020   \n",
      "4      United States  50 - 59 years     2           13  Aug 19 - Aug 31, 2020   \n",
      "...              ...            ...   ...          ...                    ...   \n",
      "10399       Virginia       Virginia   3.4           45   Apr 27 - May 9, 2022   \n",
      "10400     Washington     Washington   3.4           45   Apr 27 - May 9, 2022   \n",
      "10401  West Virginia  West Virginia   3.4           45   Apr 27 - May 9, 2022   \n",
      "10402      Wisconsin      Wisconsin   3.4           45   Apr 27 - May 9, 2022   \n",
      "10403        Wyoming        Wyoming   3.4           45   Apr 27 - May 9, 2022   \n",
      "\n",
      "      Time Period Start Date Time Period End Date  Value  LowCI  HighCI  \\\n",
      "0                 08/19/2020           08/31/2020   19.4   19.0    19.8   \n",
      "1                 08/19/2020           08/31/2020   18.7   17.2    20.3   \n",
      "2                 08/19/2020           08/31/2020   18.3   17.3    19.2   \n",
      "3                 08/19/2020           08/31/2020   20.4   19.5    21.3   \n",
      "4                 08/19/2020           08/31/2020   21.2   20.2    22.2   \n",
      "...                      ...                  ...    ...    ...     ...   \n",
      "10399             04/27/2022           05/09/2022   10.1    7.1    13.8   \n",
      "10400             04/27/2022           05/09/2022   14.8   12.5    17.4   \n",
      "10401             04/27/2022           05/09/2022    9.8    6.6    13.8   \n",
      "10402             04/27/2022           05/09/2022   11.6    8.5    15.3   \n",
      "10403             04/27/2022           05/09/2022   11.5    8.6    15.1   \n",
      "\n",
      "      Confidence Interval Quartile Range  Suppression Flag  \n",
      "0             19.0 - 19.8            NaN               NaN  \n",
      "1             17.2 - 20.3            NaN               NaN  \n",
      "2             17.3 - 19.2            NaN               NaN  \n",
      "3             19.5 - 21.3            NaN               NaN  \n",
      "4             20.2 - 22.2            NaN               NaN  \n",
      "...                   ...            ...               ...  \n",
      "10399          7.1 - 13.8       9.6-11.3               NaN  \n",
      "10400         12.5 - 17.4      13.0-20.8               NaN  \n",
      "10401          6.6 - 13.8       9.6-11.3               NaN  \n",
      "10402          8.5 - 15.3      11.4-12.9               NaN  \n",
      "10403          8.6 - 15.1      11.4-12.9               NaN  \n",
      "\n",
      "[10404 rows x 15 columns]\n"
     ]
    }
   ],
   "source": [
    "mental_health_care = pd.read_csv(\"Mental_Health_Care_in_the_Last_4_Weeks.csv\")\n",
    "\n",
    "# For a quick view of the dataframe\n",
    "print(mental_health_care)"
   ]
  },
  {
   "cell_type": "code",
   "execution_count": 13,
   "metadata": {},
   "outputs": [
    {
     "name": "stdout",
     "output_type": "stream",
     "text": [
      "      Series ID  Year Period     Label  Value\n",
      "0   LNS14000025  2020    M01  2020 Jan    3.2\n",
      "1   LNS14000025  2020    M02  2020 Feb    3.2\n",
      "2   LNS14000025  2020    M03  2020 Mar    4.1\n",
      "3   LNS14000025  2020    M04  2020 Apr   13.0\n",
      "4   LNS14000025  2020    M05  2020 May   11.5\n",
      "5   LNS14000025  2020    M06  2020 Jun   10.1\n",
      "6   LNS14000025  2020    M07  2020 Jul    9.3\n",
      "7   LNS14000025  2020    M08  2020 Aug    7.9\n",
      "8   LNS14000025  2020    M09  2020 Sep    7.4\n",
      "9   LNS14000025  2020    M10  2020 Oct    6.7\n",
      "10  LNS14000025  2020    M11  2020 Nov    6.7\n",
      "11  LNS14000025  2020    M12  2020 Dec    6.4\n",
      "12  LNS14000025  2021    M01  2021 Jan    6.1\n",
      "13  LNS14000025  2021    M02  2021 Feb    6.0\n",
      "14  LNS14000025  2021    M03  2021 Mar    5.8\n",
      "15  LNS14000025  2021    M04  2021 Apr    6.0\n",
      "16  LNS14000025  2021    M05  2021 May    5.8\n",
      "17  LNS14000025  2021    M06  2021 Jun    5.9\n",
      "18  LNS14000025  2021    M07  2021 Jul    5.3\n",
      "19  LNS14000025  2021    M08  2021 Aug    5.1\n",
      "20  LNS14000025  2021    M09  2021 Sep    4.7\n",
      "21  LNS14000025  2021    M10  2021 Oct    4.3\n",
      "22  LNS14000025  2021    M11  2021 Nov    3.9\n",
      "23  LNS14000025  2021    M12  2021 Dec    3.6\n",
      "24  LNS14000025  2022    M01  2022 Jan    3.8\n",
      "25  LNS14000025  2022    M02  2022 Feb    3.5\n",
      "26  LNS14000025  2022    M03  2022 Mar    3.4\n",
      "27  LNS14000025  2022    M04  2022 Apr    3.5\n",
      "28  LNS14000025  2022    M05  2022 May    3.4\n"
     ]
    }
   ],
   "source": [
    "unemployment_rate_for_men = pd.read_csv(\"Unemployment rate for men.csv\")\n",
    "\n",
    "# For a quick view of the dataframe\n",
    "print(unemployment_rate_for_men)"
   ]
  },
  {
   "cell_type": "code",
   "execution_count": 14,
   "metadata": {},
   "outputs": [
    {
     "name": "stdout",
     "output_type": "stream",
     "text": [
      "      Series ID  Year Period     Label  Value\n",
      "0   LNS14000026  2020    M01  2020 Jan    3.2\n",
      "1   LNS14000026  2020    M02  2020 Feb    3.1\n",
      "2   LNS14000026  2020    M03  2020 Mar    4.0\n",
      "3   LNS14000026  2020    M04  2020 Apr   15.4\n",
      "4   LNS14000026  2020    M05  2020 May   13.8\n",
      "5   LNS14000026  2020    M06  2020 Jun   11.2\n",
      "6   LNS14000026  2020    M07  2020 Jul   10.4\n",
      "7   LNS14000026  2020    M08  2020 Aug    8.3\n",
      "8   LNS14000026  2020    M09  2020 Sep    7.8\n",
      "9   LNS14000026  2020    M10  2020 Oct    6.5\n",
      "10  LNS14000026  2020    M11  2020 Nov    6.2\n",
      "11  LNS14000026  2020    M12  2020 Dec    6.3\n",
      "12  LNS14000026  2021    M01  2021 Jan    6.0\n",
      "13  LNS14000026  2021    M02  2021 Feb    5.9\n",
      "14  LNS14000026  2021    M03  2021 Mar    5.7\n",
      "15  LNS14000026  2021    M04  2021 Apr    5.6\n",
      "16  LNS14000026  2021    M05  2021 May    5.3\n",
      "17  LNS14000026  2021    M06  2021 Jun    5.5\n",
      "18  LNS14000026  2021    M07  2021 Jul    5.0\n",
      "19  LNS14000026  2021    M08  2021 Aug    4.8\n",
      "20  LNS14000026  2021    M09  2021 Sep    4.3\n",
      "21  LNS14000026  2021    M10  2021 Oct    4.3\n",
      "22  LNS14000026  2021    M11  2021 Nov    3.9\n",
      "23  LNS14000026  2021    M12  2021 Dec    3.6\n",
      "24  LNS14000026  2022    M01  2022 Jan    3.6\n",
      "25  LNS14000026  2022    M02  2022 Feb    3.6\n",
      "26  LNS14000026  2022    M03  2022 Mar    3.3\n",
      "27  LNS14000026  2022    M04  2022 Apr    3.2\n",
      "28  LNS14000026  2022    M05  2022 May    3.4\n"
     ]
    }
   ],
   "source": [
    "unemployment_rate_for_women = pd.read_csv(\"Unemployment rate for women.csv\")\n",
    "\n",
    "# For a quick view of the dataframe\n",
    "print(unemployment_rate_for_women)"
   ]
  },
  {
   "cell_type": "markdown",
   "metadata": {
    "azdata_cell_guid": "129ce836-524b-4ea8-b394-a959f9308d6a"
   },
   "source": [
    "## Get to Know the Numbers\n",
    "\n",
    "Now that you have everything setup, put any code that you use to get to know the dataframe and its rows and columns better in the cell below. You can use whatever techniques you like, except for visualizations. You will put those in a separate section.\n",
    "\n",
    "When working on your code, make sure to leave comments so that your mentors can understand your thought process."
   ]
  },
  {
   "cell_type": "code",
   "execution_count": 15,
   "metadata": {
    "azdata_cell_guid": "0ca2d318-f6e8-43ef-a33e-5304d24d928d",
    "tags": []
   },
   "outputs": [
    {
     "name": "stdout",
     "output_type": "stream",
     "text": [
      "<class 'pandas.core.frame.DataFrame'>\n",
      "RangeIndex: 41 entries, 0 to 40\n",
      "Data columns (total 5 columns):\n",
      " #   Column     Non-Null Count  Dtype  \n",
      "---  ------     --------------  -----  \n",
      " 0   Series ID  41 non-null     object \n",
      " 1   Year       41 non-null     int64  \n",
      " 2   Period     41 non-null     object \n",
      " 3   Label      41 non-null     object \n",
      " 4   Value      41 non-null     float64\n",
      "dtypes: float64(1), int64(1), object(3)\n",
      "memory usage: 1.7+ KB\n",
      "None\n"
     ]
    }
   ],
   "source": [
    "# View df info\n",
    "print(bls_employment_rate.info())"
   ]
  },
  {
   "cell_type": "code",
   "execution_count": 16,
   "metadata": {},
   "outputs": [
    {
     "name": "stdout",
     "output_type": "stream",
     "text": [
      "<class 'pandas.core.frame.DataFrame'>\n",
      "RangeIndex: 854 entries, 0 to 853\n",
      "Data columns (total 2 columns):\n",
      " #   Column       Non-Null Count  Dtype  \n",
      "---  ------       --------------  -----  \n",
      " 0   DATE         854 non-null    object \n",
      " 1   IHLCHGNEWUS  854 non-null    float64\n",
      "dtypes: float64(1), object(1)\n",
      "memory usage: 13.5+ KB\n",
      "None\n"
     ]
    }
   ],
   "source": [
    "# View df info\n",
    "print(indeed_job_posting_freq.info())"
   ]
  },
  {
   "cell_type": "code",
   "execution_count": 60,
   "metadata": {},
   "outputs": [
    {
     "name": "stdout",
     "output_type": "stream",
     "text": [
      "<class 'pandas.core.frame.DataFrame'>\n",
      "RangeIndex: 10404 entries, 0 to 10403\n",
      "Data columns (total 15 columns):\n",
      " #   Column                  Non-Null Count  Dtype  \n",
      "---  ------                  --------------  -----  \n",
      " 0   Indicator               10404 non-null  object \n",
      " 1   Group                   10404 non-null  object \n",
      " 2   State                   10404 non-null  object \n",
      " 3   Subgroup                10404 non-null  object \n",
      " 4   Phase                   10404 non-null  object \n",
      " 5   Time Period             10404 non-null  int64  \n",
      " 6   Time Period Label       10404 non-null  object \n",
      " 7   Time Period Start Date  10404 non-null  object \n",
      " 8   Time Period End Date    10404 non-null  object \n",
      " 9   Value                   9914 non-null   float64\n",
      " 10  LowCI                   9914 non-null   float64\n",
      " 11  HighCI                  9914 non-null   float64\n",
      " 12  Confidence Interval     9914 non-null   object \n",
      " 13  Quartile Range          6732 non-null   object \n",
      " 14  Suppression Flag        22 non-null     float64\n",
      "dtypes: float64(4), int64(1), object(10)\n",
      "memory usage: 1.2+ MB\n",
      "None\n"
     ]
    }
   ],
   "source": [
    "# View df info\n",
    "print(mental_health_care.info())"
   ]
  },
  {
   "cell_type": "code",
   "execution_count": 58,
   "metadata": {},
   "outputs": [
    {
     "name": "stdout",
     "output_type": "stream",
     "text": [
      "<class 'pandas.core.frame.DataFrame'>\n",
      "RangeIndex: 29 entries, 0 to 28\n",
      "Data columns (total 5 columns):\n",
      " #   Column     Non-Null Count  Dtype  \n",
      "---  ------     --------------  -----  \n",
      " 0   Series ID  29 non-null     object \n",
      " 1   Year       29 non-null     int64  \n",
      " 2   Period     29 non-null     object \n",
      " 3   Label      29 non-null     object \n",
      " 4   Value      29 non-null     float64\n",
      "dtypes: float64(1), int64(1), object(3)\n",
      "memory usage: 1.3+ KB\n",
      "None\n"
     ]
    }
   ],
   "source": [
    "# View df info\n",
    "print(unemployment_rate_for_men.info())"
   ]
  },
  {
   "cell_type": "code",
   "execution_count": 19,
   "metadata": {},
   "outputs": [
    {
     "name": "stdout",
     "output_type": "stream",
     "text": [
      "<class 'pandas.core.frame.DataFrame'>\n",
      "RangeIndex: 29 entries, 0 to 28\n",
      "Data columns (total 5 columns):\n",
      " #   Column     Non-Null Count  Dtype  \n",
      "---  ------     --------------  -----  \n",
      " 0   Series ID  29 non-null     object \n",
      " 1   Year       29 non-null     int64  \n",
      " 2   Period     29 non-null     object \n",
      " 3   Label      29 non-null     object \n",
      " 4   Value      29 non-null     float64\n",
      "dtypes: float64(1), int64(1), object(3)\n",
      "memory usage: 1.3+ KB\n",
      "None\n"
     ]
    }
   ],
   "source": [
    "# View df info\n",
    "print(unemployment_rate_for_women.info())"
   ]
  },
  {
   "cell_type": "markdown",
   "metadata": {
    "azdata_cell_guid": "d45060f3-97bc-484a-9ef4-66145bbe9427"
   },
   "source": [
    "## Visualize\n",
    "\n",
    "Create any visualizations for your EDA here. Make note in the form of code comments of what your thought process is for your visualizations."
   ]
  },
  {
   "cell_type": "code",
   "execution_count": 62,
   "metadata": {
    "azdata_cell_guid": "f4565b03-759a-47a8-b58f-01b32a0b4b67"
   },
   "outputs": [
    {
     "data": {
      "image/png": "[encoded data removed]",
      "text/plain": [
       "<Figure size 432x288 with 1 Axes>"
      ]
     },
     "metadata": {
      "needs_background": "light"
     },
     "output_type": "display_data"
    }
   ],
   "source": [
    "# Plots the employment month against the recorded unemployment rate\n",
    "bls_employment_rate.plot(x = \"Label\", y = \"Value\")\n",
    "plt.xlabel(\"Time Period\")\n",
    "plt.ylabel(\"Unemployment Rate\")\n",
    "plt.show()"
   ]
  },
  {
   "cell_type": "code",
   "execution_count": 55,
   "metadata": {
    "azdata_cell_guid": "cd64bab1-db4c-4295-820d-c6464b653a3e"
   },
   "outputs": [
    {
     "data": {
      "image/png": "[encoded data removed]",
      "text/plain": [
       "<Figure size 432x288 with 1 Axes>"
      ]
     },
     "metadata": {
      "needs_background": "light"
     },
     "output_type": "display_data"
    }
   ],
   "source": [
    "# Plots the date against the number of job postings\n",
    "indeed_job_posting_freq.plot(x = \"DATE\", y = \"IHLCHGNEWUS\")\n",
    "plt.ylabel(\"Job Postings\")\n",
    "plt.show()"
   ]
  },
  {
   "cell_type": "code",
   "execution_count": 64,
   "metadata": {},
   "outputs": [
    {
     "data": {
      "image/png": "[encoded data removed]",
      "text/plain": [
       "<Figure size 432x288 with 1 Axes>"
      ]
     },
     "metadata": {
      "needs_background": "light"
     },
     "output_type": "display_data"
    }
   ],
   "source": [
    "# Plots the time period start date against the number of people recorded with mental health issues\n",
    "mental_health_care.plot(x = \"Time Period Start Date\", y = \"Value\")\n",
    "plt.ylabel(\"Mental Health Stats\")\n",
    "plt.show()"
   ]
  },
  {
   "cell_type": "code",
   "execution_count": 66,
   "metadata": {},
   "outputs": [
    {
     "data": {
      "image/png": "[encoded data removed]",
      "text/plain": [
       "<Figure size 432x288 with 1 Axes>"
      ]
     },
     "metadata": {
      "needs_background": "light"
     },
     "output_type": "display_data"
    }
   ],
   "source": [
    "# Plots the employment month against the recorded unemployment rate\n",
    "unemployment_rate_for_men.plot(x = \"Label\", y = \"Value\")\n",
    "plt.xlabel(\"Time Period\")\n",
    "plt.ylabel(\"Unemployment Rate\")\n",
    "plt.show()"
   ]
  },
  {
   "cell_type": "code",
   "execution_count": 65,
   "metadata": {},
   "outputs": [
    {
     "data": {
      "image/png": "[encoded data removed]",
      "text/plain": [
       "<Figure size 432x288 with 1 Axes>"
      ]
     },
     "metadata": {
      "needs_background": "light"
     },
     "output_type": "display_data"
    }
   ],
   "source": [
    "# Plots the employment month against the recorded unemployment rate\n",
    "unemployment_rate_for_women.plot(x = \"Label\", y = \"Value\")\n",
    "plt.xlabel(\"Time Period\")\n",
    "plt.ylabel(\"Unemployment Rate\")\n",
    "plt.show()"
   ]
  },
  {
   "cell_type": "markdown",
   "metadata": {
    "azdata_cell_guid": "d4931c0c-2c09-4ee1-95d4-73dd08c2f0a6"
   },
   "source": [
    "## Summarize Your Results\n",
    "\n",
    "With your EDA complete, answer the following questions.\n",
    "\n",
    "1. Was there anything surprising about your dataset?\n",
    "I noticed that unemployment rate for both men and women peaked before covid but dropped sharply when covid started, and so did job postings. During the same time the number of people who took psychological help (saw Psychiatrists, used mental health drugs) started to rise. During the later end of covid though, unemployment rate started reducing, job postings increased, but the it seems that mental health issues did not reduce like the rest. \n",
    "\n",
    "2. Do you have any concerns about your dataset? \n",
    "- Some columns are not well labeled so I need to label them better.\n",
    "- The mental health dataset is very large so I'll need to do additional processing to use it.\n",
    "\n",
    "3. Is there anything you want to make note of for the next phase of your analysis, which is cleaning data?\n",
    "- Rename columns that are not intuitive.\n",
    "- Reformat date data before processing or visualizing.\n",
    "- Sample mental health data to reduce the data used for processing."
   ]
  }
 ],
 "metadata": {
  "kernelspec": {
   "display_name": "Python 3 (ipykernel)",
   "language": "python",
   "name": "python3"
  },
  "language_info": {
   "codemirror_mode": {
    "name": "ipython",
    "version": 3
   },
   "file_extension": ".py",
   "mimetype": "text/x-python",
   "name": "python",
   "nbconvert_exporter": "python",
   "pygments_lexer": "ipython3",
   "version": "3.9.7"
  }
 },
 "nbformat": 4,
 "nbformat_minor": 2
}
